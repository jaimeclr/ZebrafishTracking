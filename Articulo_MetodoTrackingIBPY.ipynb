{
  "nbformat": 4,
  "nbformat_minor": 0,
  "metadata": {
    "colab": {
      "provenance": []
    },
    "kernelspec": {
      "name": "python3",
      "display_name": "Python 3"
    },
    "language_info": {
      "name": "python"
    }
  },
  "cells": [
    {
      "cell_type": "code",
      "execution_count": null,
      "metadata": {
        "colab": {
          "base_uri": "https://localhost:8080/"
        },
        "id": "QjFSR93UnsNY",
        "outputId": "00f80b87-a15a-44e3-f245-4a3a4afb3c5a"
      },
      "outputs": [
        {
          "output_type": "stream",
          "name": "stdout",
          "text": [
            "Drive already mounted at /content/drive; to attempt to forcibly remount, call drive.mount(\"/content/drive\", force_remount=True).\n"
          ]
        }
      ],
      "source": [
        "from google.colab import drive\n",
        "drive.mount('/content/drive')\n",
        "import pandas as pd\n",
        "import numpy as np\n",
        "import matplotlib.pyplot as plt\n",
        "import seaborn as sns\n",
        "import os"
      ]
    },
    {
      "cell_type": "code",
      "source": [
        "scale_distance=52\n",
        "scale_frames=30"
      ],
      "metadata": {
        "id": "EmtLvDhmrScx"
      },
      "execution_count": null,
      "outputs": []
    },
    {
      "cell_type": "code",
      "source": [
        "def subfolderss(path):\n",
        "  # Specify the path to the folder you want to list the subfolders of\n",
        "  #folder_path = '/content/drive/MyDrive'\n",
        "  folder_path = path\n",
        "  # Use os.listdir() to get a list of all items (files and folders) in the specified directory\n",
        "  all_items = os.listdir(folder_path)\n",
        "\n",
        "  # Use a list comprehension to filter out only the subfolders (directories)\n",
        "  subfolders = [item for item in all_items if os.path.isdir(os.path.join(folder_path, item))]\n",
        "\n",
        "  # Now, the 'subfolders' list contains the names of all subfolders in the specified directory\n",
        "  #print(\"Subfolders in the directory:\", subfolders)\n",
        "  return subfolders\n"
      ],
      "metadata": {
        "id": "Umxpbis9HDH6"
      },
      "execution_count": null,
      "outputs": []
    },
    {
      "cell_type": "code",
      "source": [
        "patt='/content/drive/MyDrive/MCO/Jonathan/Experimento'\n",
        "subs1=subfolderss(patt)\n",
        "g_tratamiento=[]\n",
        "g_muestra=[]\n",
        "g_distance=[]\n",
        "g_speed=[]\n",
        "filess=['Tracks.csv','Spots.csv']\n",
        "for i in subs1:\n",
        "  sec_patt=patt+'/'+i\n",
        "  #print(sec_patt)\n",
        "  subs2=subfolderss(sec_patt)\n",
        "  if len(subs2):\n",
        "    #print(subs2)\n",
        "    for j in subs2:\n",
        "      thir_patt=sec_patt+'/'+j\n",
        "      #print(thir_patt)\n",
        "      for k in filess:\n",
        "        if k==filess[0]:\n",
        "          ruta=thir_patt+'/'+k\n",
        "          df=pd.read_csv(ruta)\n",
        "          #print('creado')\n",
        "          g_tratamiento+=[i]\n",
        "          g_muestra+=[j]\n",
        "          aa=list(df.TOTAL_DISTANCE_TRAVELED)\n",
        "          bb=float(aa[-1])/scale_distance\n",
        "          g_distance+=[bb]\n",
        "          aa=list(df.TRACK_MEAN_SPEED)\n",
        "          bb=float(aa[-1])/scale_frames\n",
        "          g_speed+=[bb]\n",
        "        else:\n",
        "          ruta=thir_patt+'/'+k\n",
        "          df0=pd.read_csv(ruta)\n",
        "          frames=list(df0.FRAME)\n",
        "          posX=list(df0.POSITION_X)\n",
        "          posY=list(df0.POSITION_Y)\n",
        "          reducido={'FRAME':frames[3:],'POSITION_X':posX[3:],'POSITION_Y':posY[3:]}\n",
        "          df=pd.DataFrame(reducido)\n",
        "          df['FRAME'] = df['FRAME'].astype(float)\n",
        "          df['POSITION_X'] = df['POSITION_X'].astype(float)/scale_distance\n",
        "          df['POSITION_Y'] = df['POSITION_Y'].astype(float)/scale_distance\n",
        "          df['NORM_POS_X'] =df['POSITION_X']-df['POSITION_X'][0]\n",
        "          df['NORM_POS_Y'] =df['POSITION_Y']-df['POSITION_Y'][0]\n",
        "          f, ax = plt.subplots(figsize=(5, 5))\n",
        "          plt.plot(df.NORM_POS_X,df.NORM_POS_Y)\n",
        "          #plt.plot(df['NORM_POS_X'][-1],df['NORM_POS_Y'][-1],'*g')\n",
        "          plt.plot(df['NORM_POS_X'][0],df['NORM_POS_Y'][0],'or')\n",
        "          plt.ylim(-14,14)\n",
        "          plt.xlim(-14,14)\n",
        "          #plt.show()\n",
        "          plt.savefig(thir_patt+'/tracking.png',dpi=300)\n",
        "          plt.clf()\n",
        "          #df=df.sort_values(by='FRAMES')\n",
        "guardado={'Tratamiento':g_tratamiento,'Muestra':g_muestra,'Total_distance':g_distance,'Speed':g_speed}\n",
        "df=pd.DataFrame(guardado)\n",
        "graficos=['Total_distance','Speed']\n",
        "df.to_csv(patt+'/data.csv', index=False)\n",
        "for i in graficos:\n",
        "  sns.boxplot(df, x=\"Tratamiento\", y=i)\n",
        "  # Add in points to show each observation\n",
        "  sns.stripplot(df, x=\"Tratamiento\", y=i, size=4, color=\".3\")\n",
        "  plt.savefig(patt+'/'+i+'.png')\n",
        "  plt.clf()"
      ],
      "metadata": {
        "colab": {
          "base_uri": "https://localhost:8080/",
          "height": 329
        },
        "id": "IirARoXsHxT7",
        "outputId": "fa3abfbf-baf7-47fa-b3d5-3504741b7860"
      },
      "execution_count": null,
      "outputs": [
        {
          "output_type": "display_data",
          "data": {
            "text/plain": [
              "<Figure size 500x500 with 0 Axes>"
            ]
          },
          "metadata": {}
        },
        {
          "output_type": "display_data",
          "data": {
            "text/plain": [
              "<Figure size 500x500 with 0 Axes>"
            ]
          },
          "metadata": {}
        },
        {
          "output_type": "display_data",
          "data": {
            "text/plain": [
              "<Figure size 500x500 with 0 Axes>"
            ]
          },
          "metadata": {}
        },
        {
          "output_type": "display_data",
          "data": {
            "text/plain": [
              "<Figure size 500x500 with 0 Axes>"
            ]
          },
          "metadata": {}
        },
        {
          "output_type": "display_data",
          "data": {
            "text/plain": [
              "<Figure size 500x500 with 0 Axes>"
            ]
          },
          "metadata": {}
        },
        {
          "output_type": "display_data",
          "data": {
            "text/plain": [
              "<Figure size 500x500 with 0 Axes>"
            ]
          },
          "metadata": {}
        },
        {
          "output_type": "display_data",
          "data": {
            "text/plain": [
              "<Figure size 500x500 with 0 Axes>"
            ]
          },
          "metadata": {}
        },
        {
          "output_type": "display_data",
          "data": {
            "text/plain": [
              "<Figure size 500x500 with 0 Axes>"
            ]
          },
          "metadata": {}
        },
        {
          "output_type": "display_data",
          "data": {
            "text/plain": [
              "<Figure size 500x500 with 0 Axes>"
            ]
          },
          "metadata": {}
        },
        {
          "output_type": "display_data",
          "data": {
            "text/plain": [
              "<Figure size 500x500 with 0 Axes>"
            ]
          },
          "metadata": {}
        },
        {
          "output_type": "display_data",
          "data": {
            "text/plain": [
              "<Figure size 500x500 with 0 Axes>"
            ]
          },
          "metadata": {}
        },
        {
          "output_type": "display_data",
          "data": {
            "text/plain": [
              "<Figure size 500x500 with 0 Axes>"
            ]
          },
          "metadata": {}
        },
        {
          "output_type": "display_data",
          "data": {
            "text/plain": [
              "<Figure size 500x500 with 0 Axes>"
            ]
          },
          "metadata": {}
        },
        {
          "output_type": "display_data",
          "data": {
            "text/plain": [
              "<Figure size 500x500 with 0 Axes>"
            ]
          },
          "metadata": {}
        },
        {
          "output_type": "display_data",
          "data": {
            "text/plain": [
              "<Figure size 500x500 with 0 Axes>"
            ]
          },
          "metadata": {}
        },
        {
          "output_type": "display_data",
          "data": {
            "text/plain": [
              "<Figure size 500x500 with 0 Axes>"
            ]
          },
          "metadata": {}
        },
        {
          "output_type": "display_data",
          "data": {
            "text/plain": [
              "<Figure size 500x500 with 0 Axes>"
            ]
          },
          "metadata": {}
        },
        {
          "output_type": "display_data",
          "data": {
            "text/plain": [
              "<Figure size 500x500 with 0 Axes>"
            ]
          },
          "metadata": {}
        }
      ]
    },
    {
      "cell_type": "code",
      "source": [
        "40*15"
      ],
      "metadata": {
        "colab": {
          "base_uri": "https://localhost:8080/"
        },
        "id": "L6MhyeCAhEve",
        "outputId": "35b228fa-c8fc-4917-b928-dbf5a42abd73"
      },
      "execution_count": null,
      "outputs": [
        {
          "output_type": "execute_result",
          "data": {
            "text/plain": [
              "600"
            ]
          },
          "metadata": {},
          "execution_count": 1
        }
      ]
    }
  ]
}